{
 "cells": [
  {
   "cell_type": "code",
   "execution_count": null,
   "metadata": {},
   "outputs": [],
   "source": [
    "#using selenium\n",
    "from selenium import webdriver\n",
    "from selenium.webdriver.common.keys import Keys\n",
    "from selenium.webdriver.support import expected_conditions as EC\n",
    "from selenium.webdriver.common.by import By\n",
    "from selenium.webdriver.support.wait import WebDriverWait\n",
    "from selenium.webdriver.chrome.options import Options\n",
    "import time\n",
    "import pandas as pd"
   ]
  },
  {
   "cell_type": "code",
   "execution_count": null,
   "metadata": {},
   "outputs": [],
   "source": [
    "#use chromedriver as the browser\n",
    "driver = webdriver.Chrome('C:/Users/Jason Chau/Documents/chromedriver.exe')\n",
    "driver.set_window_size(1920, 1080)\n",
    "driver.get('https://linkedin.com')\n",
    "time.sleep(2)"
   ]
  },
  {
   "cell_type": "code",
   "execution_count": null,
   "metadata": {},
   "outputs": [],
   "source": [
    "username = driver.find_element_by_xpath(\"//input[@name='session_key']\")\n",
    "password = driver.find_element_by_xpath(\"//input[@name='session_password']\")\n",
    "\n",
    "#please input linkedin account and password\n",
    "linkedin_email = \"what.chau@gmail.com\"\n",
    "linkedin_pw = \"Demopw123\"\n",
    "\n",
    "username.send_keys(linkedin_email)\n",
    "password.send_keys(linkedin_pw)\n",
    "\n",
    "time.sleep(2)\n",
    "\n",
    "submit = driver.find_element_by_xpath(\"//button[@type='submit']\").click()\n",
    "time.sleep(2)"
   ]
  },
  {
   "cell_type": "code",
   "execution_count": null,
   "metadata": {},
   "outputs": [],
   "source": [
    "# https://www.linkedin.com/jobs/search/?geoId=101174742&keywords=data%20analyst&start=1\n",
    "driver.get('https://www.linkedin.com/jobs/search/?geoId=101174742&keywords=data%20analyst&start=1')\n",
    "time.sleep(2)"
   ]
  },
  {
   "cell_type": "code",
   "execution_count": null,
   "metadata": {},
   "outputs": [],
   "source": [
    "arr=[]\n",
    "df = pd.DataFrame(arr,columns=['job_title','company','location','detail'])\n",
    "total_page = 5\n",
    "\n",
    "for x in range(total_page):\n",
    "    # this link os for data analyst job\n",
    "    link = 'https://www.linkedin.com/jobs/search/?geoId=101174742&keywords=data%20analyst&start='\n",
    "    page = str(1+x*10)\n",
    "    driver.get(link+page)\n",
    "    time.sleep(2)\n",
    "\n",
    "    jobcard = driver.find_elements_by_xpath('//*[starts-with(@id, \"ember\")]')\n",
    "\n",
    "    #automatically click each item on the joblist, then fetch job detail data and append to the dataframe\n",
    "    for idx,val in enumerate(jobcard[55:151][::12]):\n",
    "        val.click()\n",
    "        time.sleep(3)\n",
    "\n",
    "        jobtopcard = driver.find_elements_by_id('ember143')\n",
    "        jobtopcard2 = driver.find_elements_by_class_name('mt2')\n",
    "        jobdetail = driver.find_elements_by_id(\"job-details\")\n",
    "\n",
    "        d={\n",
    "            \"job_title\":jobtopcard[0].text,\n",
    "            \"company\":jobtopcard2[0].text.split(',')[0],\n",
    "            \"loction\":jobtopcard2[0].text.split(',')[1],\n",
    "            'detail':jobdetail[0].text\n",
    "            }\n",
    "        df = df.append(d,ignore_index=True)"
   ]
  },
  {
   "cell_type": "code",
   "execution_count": null,
   "metadata": {},
   "outputs": [],
   "source": [
    "# check final df\n",
    "df"
   ]
  },
  {
   "cell_type": "code",
   "execution_count": null,
   "metadata": {},
   "outputs": [],
   "source": [
    "#export df to csv\n",
    "df.to_csv('sample_data.csv')"
   ]
  },
  {
   "cell_type": "code",
   "execution_count": null,
   "metadata": {},
   "outputs": [],
   "source": []
  }
 ],
 "metadata": {
  "interpreter": {
   "hash": "6ea7ee7b746b16a5293706387894c6888fd13e205bcd1102580d09ff9955171a"
  },
  "kernelspec": {
   "display_name": "Python 3.10.2 64-bit",
   "language": "python",
   "name": "python3"
  },
  "language_info": {
   "codemirror_mode": {
    "name": "ipython",
    "version": 3
   },
   "file_extension": ".py",
   "mimetype": "text/x-python",
   "name": "python",
   "nbconvert_exporter": "python",
   "pygments_lexer": "ipython3",
   "version": "3.10.2"
  },
  "orig_nbformat": 4
 },
 "nbformat": 4,
 "nbformat_minor": 2
}
