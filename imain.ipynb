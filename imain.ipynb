{
 "cells": [
  {
   "cell_type": "code",
   "execution_count": null,
   "metadata": {},
   "outputs": [],
   "source": [
    "!pip install -U selenium\n",
    "\n",
    "from selenium import webdriver\n",
    "from selenium.webdriver.common.keys import Keys\n",
    "from selenium.webdriver.chrome.options import Options"
   ]
  },
  {
   "cell_type": "code",
   "execution_count": null,
   "metadata": {},
   "outputs": [],
   "source": [
    "options = Options()\n",
    "options.add_experimental_option(\"detach\", True)\n",
    "options.add_argument('--disable-infobars')\n",
    "driver = webdriver.Chrome('./chromedriver', options=options, port=9515)\n",
    "\n",
    "driver.get(\"https://elearning.trubicars.ca/auth/mfa/login.php\")\n",
    "url = driver.command_executor._url\n",
    "session_id = driver.session_id\n",
    "print(session_id, url)"
   ]
  },
  {
   "cell_type": "code",
   "execution_count": null,
   "metadata": {},
   "outputs": [],
   "source": [
    "\n",
    "# from selenium import webdriver\n",
    "# driver = webdriver.Remote(command_executor=url,desired_capabilities={})\n",
    "# driver.session_id = \"844ec27897ed400a48ff83d142ebb11c\"\n",
    "# driver.get(\"https://elearning.trubicars.ca/auth/mfa/login.php\")\n"
   ]
  },
  {
   "cell_type": "code",
   "execution_count": 176,
   "metadata": {},
   "outputs": [
    {
     "name": "stdout",
     "output_type": "stream",
     "text": [
      "Digital10hrs: Car Maintenance\n"
     ]
    }
   ],
   "source": [
    "\n",
    "from selenium.webdriver.common.by import By\n",
    "print(driver.title)\n",
    "iframe = driver.find_element(By.XPATH, '//*[@id=\"scorm_object\"]')\n",
    "driver.switch_to.frame(iframe)"
   ]
  },
  {
   "cell_type": "code",
   "execution_count": null,
   "metadata": {},
   "outputs": [],
   "source": [
    "\n",
    "import time\n",
    "import re\n",
    "\n",
    "interval = 0\n",
    "\n",
    "def progressBar():\n",
    "    global interval\n",
    "    bar = driver.find_element(By.XPATH, '//*[@id=\"seek\"]/div/div/div[2]')\n",
    "    progress = bar.get_attribute(\"style\")\n",
    "    while progress != \"width: 100%;\":\n",
    "        progress = bar.get_attribute(\"style\")\n",
    "        time.sleep(interval)\n",
    "        interval = 0.5\n",
    "    interval = 0\n",
    "\n",
    "\n",
    "\n",
    "def buttonReady(xpath):\n",
    "    btn = driver.find_element(By.XPATH, xpath)\n",
    "    ready = btn.get_attribute(\"aria-disabled\") == \"false\" and \"display: block;\" in btn.get_attribute(\"style\")\n",
    "    return ready\n",
    "\n",
    "def submitButtonReady(xpath):\n",
    "    btn = driver.find_element(By.XPATH, xpath)\n",
    "    ready = \"display: block;\" in btn.get_attribute(\"style\")\n",
    "    return ready\n",
    "\n",
    "def buttonClick(xpath):\n",
    "    btn = driver.find_element(By.XPATH, xpath)\n",
    "    btn.click()\n",
    "\n",
    "while True:\n",
    "    progressBar()\n",
    "    submitReady = submitButtonReady('//*[@id=\"submit\"]')\n",
    "    nextReady = buttonReady('//*[@id=\"next\"]')\n",
    "    print(submitReady, nextReady)\n",
    "    htmlSource = driver.page_source\n",
    "    if submitReady:\n",
    "        htmlSource = driver.page_source\n",
    "        result = re.findall(\"id=\\\"uniqueDomId-\\d*\\\"\", htmlSource)\n",
    "        result.reverse()\n",
    "        print(\"submitReady: \", len(result))\n",
    "        for idx, x in enumerate(result):\n",
    "            # progressBar()\n",
    "            try:\n",
    "                btn = driver.find_element(By.XPATH, f'//*[@{x}]')\n",
    "                btn.click()\n",
    "                # print(\"Scan/find response button and click\")\n",
    "            except:\n",
    "                True\n",
    "                # print(f\"click exception {x}\")\n",
    "        try:\n",
    "            print(\"Submit@@@@@@@@\")\n",
    "            buttonClick('//*[@id=\"submit\"]')\n",
    "        except:\n",
    "            print(\"submit exception\")\n",
    "        \n",
    "    elif nextReady:\n",
    "        print(\"nextReady\")\n",
    "        buttonClick('//*[@id=\"next\"]')\n",
    "    elif \"Click on each\" in htmlSource or \"Click each\" in htmlSource:\n",
    "        print(\"List\")\n",
    "        htmlSource = driver.page_source\n",
    "        result = re.findall(\"id=\\\"uniqueDomId-\\d*\\\"\", htmlSource)\n",
    "        for idx, x in enumerate(result):\n",
    "            print(\"List. clicking\", x)\n",
    "            progressBar()\n",
    "            try:\n",
    "                btn = driver.find_element(By.XPATH, f'//*[@{x}]')\n",
    "                btn.click()\n",
    "            except:\n",
    "                print(f\"Click exception {x}\")"
   ]
  },
  {
   "cell_type": "code",
   "execution_count": null,
   "metadata": {},
   "outputs": [],
   "source": [
    "import re\n",
    "\n",
    "htmlSource = driver.page_source\n",
    "result = re.findall(\"id=\\\"uniqueDomId-\\d*\\\"\", htmlSource)\n",
    "\n",
    "//*[@id=\"slide-window\"]/div/div/div[1]/div/div[5]/div[5]\n",
    "\n",
    "for idx, x in enumerate(result):\n",
    "    try:\n",
    "        btn = driver.find_element(By.XPATH, f'//*[@{x}]')\n",
    "        btn.click()\n",
    "    except:\n",
    "        print(\"Something went wrong\")\n",
    "    finally:\n",
    "        print(\"The 'try except' is finished\")"
   ]
  }
 ],
 "metadata": {
  "interpreter": {
   "hash": "b0fa6594d8f4cbf19f97940f81e996739fb7646882a419484c72d19e05852a7e"
  },
  "kernelspec": {
   "display_name": "Python 3.9.7 64-bit",
   "language": "python",
   "name": "python3"
  },
  "language_info": {
   "codemirror_mode": {
    "name": "ipython",
    "version": 3
   },
   "file_extension": ".py",
   "mimetype": "text/x-python",
   "name": "python",
   "nbconvert_exporter": "python",
   "pygments_lexer": "ipython3",
   "version": "3.9.7"
  },
  "orig_nbformat": 4
 },
 "nbformat": 4,
 "nbformat_minor": 2
}
